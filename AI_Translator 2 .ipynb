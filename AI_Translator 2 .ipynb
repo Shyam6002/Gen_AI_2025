{
  "nbformat": 4,
  "nbformat_minor": 0,
  "metadata": {
    "colab": {
      "provenance": [],
      "authorship_tag": "ABX9TyNMlUiclKZBeLtXKmGt34gJ",
      "include_colab_link": true
    },
    "kernelspec": {
      "name": "python3",
      "display_name": "Python 3"
    },
    "language_info": {
      "name": "python"
    }
  },
  "cells": [
    {
      "cell_type": "markdown",
      "metadata": {
        "id": "view-in-github",
        "colab_type": "text"
      },
      "source": [
        "<a href=\"https://colab.research.google.com/github/Shyam6002/Gen_AI_2025/blob/main/AI_Translator%202%20.ipynb\" target=\"_parent\"><img src=\"https://colab.research.google.com/assets/colab-badge.svg\" alt=\"Open In Colab\"/></a>"
      ]
    },
    {
      "cell_type": "code",
      "execution_count": null,
      "metadata": {
        "id": "2k5fE-SmR2It"
      },
      "outputs": [],
      "source": [
        "!pip install sacremoses\n",
        "# Install required libraries\n",
        "!pip install -q gradio transformers sentencepiece\n",
        "\n",
        "import gradio as gr\n",
        "from transformers import MarianMTModel, MarianTokenizer\n",
        "\n",
        "# Load MarianMT English → French model & tokenizer\n",
        "model_name = 'Helsinki-NLP/opus-mt-en-fr'\n",
        "tokenizer = MarianTokenizer.from_pretrained(model_name)\n",
        "model = MarianMTModel.from_pretrained(model_name)\n",
        "\n",
        "# Translation function\n",
        "def genai_translate_to_french(text):\n",
        "    if not text.strip():\n",
        "        return \"Please enter some English text to translate.\"\n",
        "    tokens = tokenizer(text, return_tensors=\"pt\", padding=True, truncation=True)\n",
        "    translated = model.generate(**tokens)\n",
        "    return tokenizer.decode(translated[0], skip_special_tokens=True)\n",
        "\n",
        "# Create Gradio interface\n",
        "iface = gr.Interface(\n",
        "    fn=genai_translate_to_french,\n",
        "    inputs=gr.Textbox(lines=5, placeholder=\"Enter English text here...\"),\n",
        "    outputs=gr.Textbox(label=\"French Translation\"),\n",
        "    title=\"GenAI Language Translator\",\n",
        "    description=\"English → French translation using MarianMT (Helsinki-NLP). Powered by Hugging Face Transformers.\"\n",
        ")\n",
        "\n",
        "# Launch the app\n",
        "iface.launch()"
      ]
    }
  ]
}